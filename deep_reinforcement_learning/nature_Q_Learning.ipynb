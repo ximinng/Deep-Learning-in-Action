{
 "cells": [
  {
   "cell_type": "markdown",
   "source": [
    "## Import packages"
   ],
   "metadata": {
    "collapsed": false,
    "pycharm": {
     "name": "#%% md\n"
    }
   }
  },
  {
   "cell_type": "code",
   "execution_count": 1,
   "metadata": {
    "collapsed": true
   },
   "outputs": [
    {
     "name": "stdout",
     "output_type": "stream",
     "text": [
      "pytorch version: 1.5.1 \n",
      "open version: 4.5.2 \n",
      "numpy version: 1.20.1 \n",
      "gym version: 0.18.3\n"
     ]
    }
   ],
   "source": [
    "import random\n",
    "from collections import deque\n",
    "import numpy as np\n",
    "import gym\n",
    "import cv2\n",
    "\n",
    "import torch\n",
    "import torch.nn as nn\n",
    "\n",
    "print('pytorch version:', torch.__version__,\n",
    "      '\\nopen version:', cv2.__version__,\n",
    "      '\\nnumpy version:', np.__version__,\n",
    "      '\\ngym version:', gym.__version__)"
   ]
  },
  {
   "cell_type": "markdown",
   "source": [],
   "metadata": {
    "collapsed": false,
    "pycharm": {
     "name": "#%% md\n"
    }
   }
  },
  {
   "cell_type": "code",
   "execution_count": 2,
   "outputs": [],
   "source": [
    "BATCH_SIZE = 32\n",
    "LR = 0.001\n",
    "START_EPSILON = 1.0\n",
    "FINAL_EPSILON = 0.1\n",
    "EPSILON = START_EPSILON\n",
    "EXPLORE = 1000000\n",
    "GAMMA = 0.99\n",
    "TOTAL_EPISODES = 10000000\n",
    "MEMORY_SIZE = 1000000\n",
    "MEMORY_THRESHOLD = 100000\n",
    "UPDATE_TIME = 10000\n",
    "TEST_FREQUENCY = 1000\n",
    "\n",
    "device = torch.device(\"cuda: 0\" if torch.cuda.is_available() else \"cpu\")"
   ],
   "metadata": {
    "collapsed": false,
    "pycharm": {
     "name": "#%%\n"
    }
   }
  },
  {
   "cell_type": "code",
   "execution_count": 5,
   "outputs": [
    {
     "ename": "Exception",
     "evalue": "ROM is missing for pong, see https://github.com/openai/atari-py#roms for instructions",
     "output_type": "error",
     "traceback": [
      "\u001B[0;31m---------------------------------------------------------------------------\u001B[0m",
      "\u001B[0;31mException\u001B[0m                                 Traceback (most recent call last)",
      "\u001B[0;32m<ipython-input-5-f6bf401f326b>\u001B[0m in \u001B[0;36m<module>\u001B[0;34m\u001B[0m\n\u001B[0;32m----> 1\u001B[0;31m \u001B[0menv\u001B[0m \u001B[0;34m=\u001B[0m \u001B[0mgym\u001B[0m\u001B[0;34m.\u001B[0m\u001B[0mmake\u001B[0m\u001B[0;34m(\u001B[0m\u001B[0;34m'Pong-v0'\u001B[0m\u001B[0;34m)\u001B[0m\u001B[0;34m\u001B[0m\u001B[0;34m\u001B[0m\u001B[0m\n\u001B[0m\u001B[1;32m      2\u001B[0m \u001B[0menv\u001B[0m \u001B[0;34m=\u001B[0m \u001B[0menv\u001B[0m\u001B[0;34m.\u001B[0m\u001B[0munwrapped\u001B[0m\u001B[0;34m\u001B[0m\u001B[0;34m\u001B[0m\u001B[0m\n\u001B[1;32m      3\u001B[0m \u001B[0mACTIONS_SIZE\u001B[0m \u001B[0;34m=\u001B[0m \u001B[0menv\u001B[0m\u001B[0;34m.\u001B[0m\u001B[0maction_space\u001B[0m\u001B[0;34m.\u001B[0m\u001B[0mn\u001B[0m\u001B[0;34m\u001B[0m\u001B[0;34m\u001B[0m\u001B[0m\n\u001B[1;32m      4\u001B[0m \u001B[0;34m\u001B[0m\u001B[0m\n",
      "\u001B[0;32m~/opt/anaconda3/lib/python3.8/site-packages/gym/envs/registration.py\u001B[0m in \u001B[0;36mmake\u001B[0;34m(id, **kwargs)\u001B[0m\n\u001B[1;32m    143\u001B[0m \u001B[0;34m\u001B[0m\u001B[0m\n\u001B[1;32m    144\u001B[0m \u001B[0;32mdef\u001B[0m \u001B[0mmake\u001B[0m\u001B[0;34m(\u001B[0m\u001B[0mid\u001B[0m\u001B[0;34m,\u001B[0m \u001B[0;34m**\u001B[0m\u001B[0mkwargs\u001B[0m\u001B[0;34m)\u001B[0m\u001B[0;34m:\u001B[0m\u001B[0;34m\u001B[0m\u001B[0;34m\u001B[0m\u001B[0m\n\u001B[0;32m--> 145\u001B[0;31m     \u001B[0;32mreturn\u001B[0m \u001B[0mregistry\u001B[0m\u001B[0;34m.\u001B[0m\u001B[0mmake\u001B[0m\u001B[0;34m(\u001B[0m\u001B[0mid\u001B[0m\u001B[0;34m,\u001B[0m \u001B[0;34m**\u001B[0m\u001B[0mkwargs\u001B[0m\u001B[0;34m)\u001B[0m\u001B[0;34m\u001B[0m\u001B[0;34m\u001B[0m\u001B[0m\n\u001B[0m\u001B[1;32m    146\u001B[0m \u001B[0;34m\u001B[0m\u001B[0m\n\u001B[1;32m    147\u001B[0m \u001B[0;32mdef\u001B[0m \u001B[0mspec\u001B[0m\u001B[0;34m(\u001B[0m\u001B[0mid\u001B[0m\u001B[0;34m)\u001B[0m\u001B[0;34m:\u001B[0m\u001B[0;34m\u001B[0m\u001B[0;34m\u001B[0m\u001B[0m\n",
      "\u001B[0;32m~/opt/anaconda3/lib/python3.8/site-packages/gym/envs/registration.py\u001B[0m in \u001B[0;36mmake\u001B[0;34m(self, path, **kwargs)\u001B[0m\n\u001B[1;32m     88\u001B[0m             \u001B[0mlogger\u001B[0m\u001B[0;34m.\u001B[0m\u001B[0minfo\u001B[0m\u001B[0;34m(\u001B[0m\u001B[0;34m'Making new env: %s'\u001B[0m\u001B[0;34m,\u001B[0m \u001B[0mpath\u001B[0m\u001B[0;34m)\u001B[0m\u001B[0;34m\u001B[0m\u001B[0;34m\u001B[0m\u001B[0m\n\u001B[1;32m     89\u001B[0m         \u001B[0mspec\u001B[0m \u001B[0;34m=\u001B[0m \u001B[0mself\u001B[0m\u001B[0;34m.\u001B[0m\u001B[0mspec\u001B[0m\u001B[0;34m(\u001B[0m\u001B[0mpath\u001B[0m\u001B[0;34m)\u001B[0m\u001B[0;34m\u001B[0m\u001B[0;34m\u001B[0m\u001B[0m\n\u001B[0;32m---> 90\u001B[0;31m         \u001B[0menv\u001B[0m \u001B[0;34m=\u001B[0m \u001B[0mspec\u001B[0m\u001B[0;34m.\u001B[0m\u001B[0mmake\u001B[0m\u001B[0;34m(\u001B[0m\u001B[0;34m**\u001B[0m\u001B[0mkwargs\u001B[0m\u001B[0;34m)\u001B[0m\u001B[0;34m\u001B[0m\u001B[0;34m\u001B[0m\u001B[0m\n\u001B[0m\u001B[1;32m     91\u001B[0m         \u001B[0;31m# We used to have people override _reset/_step rather than\u001B[0m\u001B[0;34m\u001B[0m\u001B[0;34m\u001B[0m\u001B[0;34m\u001B[0m\u001B[0m\n\u001B[1;32m     92\u001B[0m         \u001B[0;31m# reset/step. Set _gym_disable_underscore_compat = True on\u001B[0m\u001B[0;34m\u001B[0m\u001B[0;34m\u001B[0m\u001B[0;34m\u001B[0m\u001B[0m\n",
      "\u001B[0;32m~/opt/anaconda3/lib/python3.8/site-packages/gym/envs/registration.py\u001B[0m in \u001B[0;36mmake\u001B[0;34m(self, **kwargs)\u001B[0m\n\u001B[1;32m     58\u001B[0m         \u001B[0;32melse\u001B[0m\u001B[0;34m:\u001B[0m\u001B[0;34m\u001B[0m\u001B[0;34m\u001B[0m\u001B[0m\n\u001B[1;32m     59\u001B[0m             \u001B[0mcls\u001B[0m \u001B[0;34m=\u001B[0m \u001B[0mload\u001B[0m\u001B[0;34m(\u001B[0m\u001B[0mself\u001B[0m\u001B[0;34m.\u001B[0m\u001B[0mentry_point\u001B[0m\u001B[0;34m)\u001B[0m\u001B[0;34m\u001B[0m\u001B[0;34m\u001B[0m\u001B[0m\n\u001B[0;32m---> 60\u001B[0;31m             \u001B[0menv\u001B[0m \u001B[0;34m=\u001B[0m \u001B[0mcls\u001B[0m\u001B[0;34m(\u001B[0m\u001B[0;34m**\u001B[0m\u001B[0m_kwargs\u001B[0m\u001B[0;34m)\u001B[0m\u001B[0;34m\u001B[0m\u001B[0;34m\u001B[0m\u001B[0m\n\u001B[0m\u001B[1;32m     61\u001B[0m \u001B[0;34m\u001B[0m\u001B[0m\n\u001B[1;32m     62\u001B[0m         \u001B[0;31m# Make the environment aware of which spec it came from.\u001B[0m\u001B[0;34m\u001B[0m\u001B[0;34m\u001B[0m\u001B[0;34m\u001B[0m\u001B[0m\n",
      "\u001B[0;32m~/opt/anaconda3/lib/python3.8/site-packages/gym/envs/atari/atari_env.py\u001B[0m in \u001B[0;36m__init__\u001B[0;34m(self, game, mode, difficulty, obs_type, frameskip, repeat_action_probability, full_action_space)\u001B[0m\n\u001B[1;32m     47\u001B[0m \u001B[0;34m\u001B[0m\u001B[0m\n\u001B[1;32m     48\u001B[0m         \u001B[0mself\u001B[0m\u001B[0;34m.\u001B[0m\u001B[0mgame\u001B[0m \u001B[0;34m=\u001B[0m \u001B[0mgame\u001B[0m\u001B[0;34m\u001B[0m\u001B[0;34m\u001B[0m\u001B[0m\n\u001B[0;32m---> 49\u001B[0;31m         \u001B[0mself\u001B[0m\u001B[0;34m.\u001B[0m\u001B[0mgame_path\u001B[0m \u001B[0;34m=\u001B[0m \u001B[0matari_py\u001B[0m\u001B[0;34m.\u001B[0m\u001B[0mget_game_path\u001B[0m\u001B[0;34m(\u001B[0m\u001B[0mgame\u001B[0m\u001B[0;34m)\u001B[0m\u001B[0;34m\u001B[0m\u001B[0;34m\u001B[0m\u001B[0m\n\u001B[0m\u001B[1;32m     50\u001B[0m         \u001B[0mself\u001B[0m\u001B[0;34m.\u001B[0m\u001B[0mgame_mode\u001B[0m \u001B[0;34m=\u001B[0m \u001B[0mmode\u001B[0m\u001B[0;34m\u001B[0m\u001B[0;34m\u001B[0m\u001B[0m\n\u001B[1;32m     51\u001B[0m         \u001B[0mself\u001B[0m\u001B[0;34m.\u001B[0m\u001B[0mgame_difficulty\u001B[0m \u001B[0;34m=\u001B[0m \u001B[0mdifficulty\u001B[0m\u001B[0;34m\u001B[0m\u001B[0;34m\u001B[0m\u001B[0m\n",
      "\u001B[0;32m~/opt/anaconda3/lib/python3.8/site-packages/atari_py/games.py\u001B[0m in \u001B[0;36mget_game_path\u001B[0;34m(game_name)\u001B[0m\n\u001B[1;32m     18\u001B[0m     \u001B[0mpath\u001B[0m \u001B[0;34m=\u001B[0m \u001B[0mos\u001B[0m\u001B[0;34m.\u001B[0m\u001B[0mpath\u001B[0m\u001B[0;34m.\u001B[0m\u001B[0mjoin\u001B[0m\u001B[0;34m(\u001B[0m\u001B[0m_games_dir\u001B[0m\u001B[0;34m,\u001B[0m \u001B[0mgame_name\u001B[0m\u001B[0;34m)\u001B[0m \u001B[0;34m+\u001B[0m \u001B[0;34m\".bin\"\u001B[0m\u001B[0;34m\u001B[0m\u001B[0;34m\u001B[0m\u001B[0m\n\u001B[1;32m     19\u001B[0m     \u001B[0;32mif\u001B[0m \u001B[0;32mnot\u001B[0m \u001B[0mos\u001B[0m\u001B[0;34m.\u001B[0m\u001B[0mpath\u001B[0m\u001B[0;34m.\u001B[0m\u001B[0mexists\u001B[0m\u001B[0;34m(\u001B[0m\u001B[0mpath\u001B[0m\u001B[0;34m)\u001B[0m\u001B[0;34m:\u001B[0m\u001B[0;34m\u001B[0m\u001B[0;34m\u001B[0m\u001B[0m\n\u001B[0;32m---> 20\u001B[0;31m         \u001B[0;32mraise\u001B[0m \u001B[0mException\u001B[0m\u001B[0;34m(\u001B[0m\u001B[0;34m'ROM is missing for %s, see https://github.com/openai/atari-py#roms for instructions'\u001B[0m \u001B[0;34m%\u001B[0m \u001B[0;34m(\u001B[0m\u001B[0mgame_name\u001B[0m\u001B[0;34m,\u001B[0m\u001B[0;34m)\u001B[0m\u001B[0;34m)\u001B[0m\u001B[0;34m\u001B[0m\u001B[0;34m\u001B[0m\u001B[0m\n\u001B[0m\u001B[1;32m     21\u001B[0m     \u001B[0;32mreturn\u001B[0m \u001B[0mpath\u001B[0m\u001B[0;34m\u001B[0m\u001B[0;34m\u001B[0m\u001B[0m\n\u001B[1;32m     22\u001B[0m \u001B[0;34m\u001B[0m\u001B[0m\n",
      "\u001B[0;31mException\u001B[0m: ROM is missing for pong, see https://github.com/openai/atari-py#roms for instructions"
     ]
    }
   ],
   "source": [
    "env = gym.make('Pong-v0')\n",
    "env = env.unwrapped\n",
    "ACTIONS_SIZE = env.action_space.n"
   ],
   "metadata": {
    "collapsed": false,
    "pycharm": {
     "name": "#%%\n"
    }
   }
  },
  {
   "cell_type": "code",
   "execution_count": null,
   "outputs": [],
   "source": [
    "def preprocess(observation):\n",
    "    \"\"\"\n",
    "    image preprocess\n",
    "    :param observation:\n",
    "    :return:\n",
    "    \"\"\"\n",
    "    observation = cv2.cvtColor(cv2.resize(observation, (84, 110)), cv2.COLOR_BGR2GRAY)\n",
    "    observation = observation[26:110, :]\n",
    "    ret, observation = cv2.threshold(observation, 1, 255, cv2.THRESH_BINARY)\n",
    "    x = np.reshape(observation, (84, 84, 1))\n",
    "    return x.transpose((2, 0, 1))"
   ],
   "metadata": {
    "collapsed": false,
    "pycharm": {
     "name": "#%%\n"
    }
   }
  },
  {
   "cell_type": "code",
   "execution_count": null,
   "outputs": [],
   "source": [
    "class AtariNet(nn.Module):\n",
    "\n",
    "    def __init__(self, num_actions):\n",
    "        super(AtariNet, self).__init__()\n",
    "        self.conv1 = nn.Sequential(\n",
    "            nn.Conv2d(1, 32, kernel_size=8, stride=4),\n",
    "            nn.ReLU()\n",
    "        )\n",
    "        self.conv2 = nn.Sequential(\n",
    "            nn.Conv2d(32, 64, kernel_size=4, stride=2),\n",
    "            nn.ReLU()\n",
    "        )\n",
    "        self.conv3 = nn.Sequential(\n",
    "            nn.Conv2d(64, 64, kernel_size=3, stride=1),\n",
    "            nn.ReLU()\n",
    "        )\n",
    "        self.hidden = nn.Sequential(\n",
    "            nn.Linear(64 * 7 * 7, 512, bias=True),\n",
    "            nn.ReLU()\n",
    "        )\n",
    "        self.out = nn.Sequential(\n",
    "            nn.Linear(512, num_actions, bias=True)\n",
    "        )\n",
    "        self.apply(self.init_weights)\n",
    "\n",
    "    def init_weights(self, m):\n",
    "        if type(m) == nn.Conv2d:\n",
    "            m.weight.data.normal_(0.0, 0.02)\n",
    "        if type(m) == nn.Linear:\n",
    "            torch.nn.init.xavier_uniform_(m.weight)\n",
    "            m.bias.data.fill_(0.01)\n",
    "\n",
    "    def forward(self, x):\n",
    "        x = self.conv1(x)\n",
    "        x = self.conv2(x)\n",
    "        x = self.conv3(x)\n",
    "        x = x.view(x.size(0), -1)\n",
    "        x = self.hidden(x)\n",
    "        x = self.out(x)\n",
    "        return x"
   ],
   "metadata": {
    "collapsed": false,
    "pycharm": {
     "name": "#%%\n"
    }
   }
  },
  {
   "cell_type": "code",
   "execution_count": null,
   "outputs": [],
   "source": [
    "class Agent(object):\n",
    "    def __init__(self):\n",
    "        self.network, self.target_network = AtariNet(ACTIONS_SIZE), AtariNet(ACTIONS_SIZE)\n",
    "        self.memory = deque()\n",
    "        self.learning_count = 0\n",
    "        self.optimizer = torch.optim.Adam(self.network.parameters(), lr=LR)\n",
    "        self.loss_func = nn.MSELoss()\n",
    "\n",
    "    def action(self, state, israndom):\n",
    "        if israndom and random.random() < EPSILON:\n",
    "            return np.random.randint(0, ACTIONS_SIZE)\n",
    "        state = torch.unsqueeze(torch.FloatTensor(state), 0)\n",
    "        actions_value = self.network.forward(state)\n",
    "        return torch.max(actions_value, 1)[1].data.numpy()[0]\n",
    "\n",
    "    def learn(self, state, action, reward, next_state, done):\n",
    "        if done:\n",
    "            self.memory.append((state, action, reward, next_state, 0))\n",
    "        else:\n",
    "            self.memory.append((state, action, reward, next_state, 1))\n",
    "        if len(self.memory) > MEMORY_SIZE:\n",
    "            self.memory.popleft()\n",
    "        if len(self.memory) < MEMORY_THRESHOLD:\n",
    "            return\n",
    "\n",
    "        if self.learning_count % UPDATE_TIME == 0:\n",
    "            self.target_network.load_state_dict(self.network.state_dict())\n",
    "        self.learning_count += 1\n",
    "\n",
    "        batch = random.sample(self.memory, BATCH_SIZE)\n",
    "        state = torch.FloatTensor([x[0] for x in batch])\n",
    "        action = torch.LongTensor([[x[1]] for x in batch])\n",
    "        reward = torch.FloatTensor([[x[2]] for x in batch])\n",
    "        next_state = torch.FloatTensor([x[3] for x in batch])\n",
    "        done = torch.FloatTensor([[x[4]] for x in batch])\n",
    "\n",
    "        eval_q = self.network.forward(state).gather(1, action)\n",
    "        next_q = self.target_network(next_state).detach()\n",
    "        target_q = reward + GAMMA * next_q.max(1)[0].view(BATCH_SIZE, 1) * done\n",
    "        loss = self.loss_func(eval_q, target_q)\n",
    "\n",
    "        self.optimizer.zero_grad()\n",
    "        loss.backward()\n",
    "        self.optimizer.step()"
   ],
   "metadata": {
    "collapsed": false,
    "pycharm": {
     "name": "#%%\n"
    }
   }
  },
  {
   "cell_type": "code",
   "execution_count": null,
   "outputs": [],
   "source": [
    "agent = Agent()\n",
    "\n",
    "for i_episode in range(TOTAL_EPISODES):\n",
    "    state = env.reset()\n",
    "    state = preprocess(state)\n",
    "    while True:\n",
    "        # env.render()\n",
    "        action = agent.action(state, True)\n",
    "        next_state, reward, done, info = env.step(action)\n",
    "        next_state = preprocess(next_state)\n",
    "        agent.learn(state, action, reward, next_state, done)\n",
    "\n",
    "        state = next_state\n",
    "        if done:\n",
    "            break\n",
    "    if EPSILON > FINAL_EPSILON:\n",
    "        EPSILON -= (START_EPSILON - FINAL_EPSILON) / EXPLORE\n",
    "\n",
    "    # TEST\n",
    "    if i_episode % TEST_FREQUENCY == 0:\n",
    "        state = env.reset()\n",
    "        state = preprocess(state)\n",
    "        total_reward = 0\n",
    "        while True:\n",
    "            # env.render()\n",
    "            action = agent.action(state, israndom=False)\n",
    "            next_state, reward, done, info = env.step(action)\n",
    "            next_state = preprocess(next_state)\n",
    "\n",
    "            total_reward += reward\n",
    "\n",
    "            state = next_state\n",
    "            if done:\n",
    "                break\n",
    "        print('episode: {} , total_reward: {}'.format(i_episode, round(total_reward, 3)))\n",
    "\n",
    "env.close()"
   ],
   "metadata": {
    "collapsed": false,
    "pycharm": {
     "name": "#%%\n"
    }
   }
  }
 ],
 "metadata": {
  "kernelspec": {
   "display_name": "Python 3",
   "language": "python",
   "name": "python3"
  },
  "language_info": {
   "codemirror_mode": {
    "name": "ipython",
    "version": 2
   },
   "file_extension": ".py",
   "mimetype": "text/x-python",
   "name": "python",
   "nbconvert_exporter": "python",
   "pygments_lexer": "ipython2",
   "version": "2.7.6"
  }
 },
 "nbformat": 4,
 "nbformat_minor": 0
}