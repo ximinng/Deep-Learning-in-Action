{
 "cells": [
  {
   "cell_type": "markdown",
   "source": [
    "## GraphSAGE: Inductive Representation Learning on Large Graphs\n",
    "\n",
    "<div align=\"center\">\n",
    "    <img style=\"border-radius: 0.3125em; box-shadow: 0 2px 4px 0 rgba(34,36,38,.12),0 2px 10px 0 rgba(34,36,38,.08);\"\n",
    "    height=\"150\"\n",
    "    src=\"https://github.com/ximingxing/Images/raw/master/dlic/gnn/GraphSage.png\">\n",
    "    <br>\n",
    "    <div style=\"border-bottom: 1px solid #d9d9d9;display:inline-block;color: #999;padding: 2px;\n",
    "    font-style: oblique; font-family: 'Times New Roman'\">\n",
    "    Figure: W.L. Hamilton, Inductive Representation Learning on Large Graphs (2017)</div>\n",
    "</div>\n",
    "\n",
    "**GraphSAGE**是一个用于大型图上归纳表示学习的框架;\n",
    "**GraphSAGE**用于为节点生成低维向量表示, 对于具有丰富节点属性信息的图尤其有用。"
   ],
   "metadata": {
    "collapsed": false,
    "pycharm": {
     "name": "#%% md\n"
    }
   }
  },
  {
   "cell_type": "markdown",
   "source": [
    "### Import packages"
   ],
   "metadata": {
    "collapsed": false,
    "pycharm": {
     "name": "#%% md\n"
    }
   }
  },
  {
   "cell_type": "code",
   "execution_count": 26,
   "metadata": {
    "collapsed": true
   },
   "outputs": [
    {
     "name": "stdout",
     "output_type": "stream",
     "text": [
      "pytorch version: 1.7.1+cu101 \n",
      "numpy version: 1.18.2 \n",
      "matplotlib version: 3.2.1\n"
     ]
    }
   ],
   "source": [
    "import torch\n",
    "import torch.nn as nn\n",
    "import torch.optim as optim\n",
    "import numpy as np\n",
    "import matplotlib\n",
    "import matplotlib.pyplot as plt\n",
    "\n",
    "print('pytorch version:',torch.__version__,\n",
    "      '\\nnumpy version:' ,np.__version__,\n",
    "      '\\nmatplotlib version:' ,matplotlib.__version__)\n",
    "\n",
    "# (可选) 适配项目路径\n",
    "import sys\n",
    "sys.path.insert(0, \"/root/workshop/Deep-Learning-in-Action\")\n",
    "\n",
    "%matplotlib inline"
   ]
  },
  {
   "cell_type": "markdown",
   "source": [
    "### Defining hyperparameters"
   ],
   "metadata": {
    "collapsed": false,
    "pycharm": {
     "name": "#%% md\n"
    }
   }
  },
  {
   "cell_type": "code",
   "execution_count": 27,
   "outputs": [],
   "source": [
    "INPUT_DIM = 1433 # 输入维度\n",
    "# Note: 采样的邻居阶数需要与GCN的层数保持一致\n",
    "HIDDEN_DIM = [128, 7]   # 隐藏单元节点数\n",
    "NUM_NEIGHBORS_LIST = [10, 10]   # 每阶采样邻居的节点数\n",
    "assert len(HIDDEN_DIM) == len(NUM_NEIGHBORS_LIST)\n",
    "\n",
    "BATCH_SIZE = 32 # 批处理大小\n",
    "EPOCHS = 20\n",
    "NUM_BATCH_PER_EPOCH = 20 # 每个epoch循环的批次数\n",
    "LEARNING_RATE = 1e-3 # 学习率\n",
    "DEVICE = \"cuda:0\" if torch.cuda.is_available() else \"cpu\""
   ],
   "metadata": {
    "collapsed": false,
    "pycharm": {
     "name": "#%%\n"
    }
   }
  },
  {
   "cell_type": "markdown",
   "source": [
    "### Load Dataset: Cora"
   ],
   "metadata": {
    "collapsed": false,
    "pycharm": {
     "name": "#%% md\n"
    }
   }
  },
  {
   "cell_type": "code",
   "execution_count": 28,
   "outputs": [
    {
     "name": "stdout",
     "output_type": "stream",
     "text": [
      "Process data ...\n",
      "/root/data/cora/raw/ind.cora.x\n",
      "/root/data/cora/raw/ind.cora.tx\n",
      "/root/data/cora/raw/ind.cora.allx\n",
      "/root/data/cora/raw/ind.cora.y\n",
      "/root/data/cora/raw/ind.cora.ty\n",
      "/root/data/cora/raw/ind.cora.ally\n",
      "/root/data/cora/raw/ind.cora.graph\n",
      "Node's feature shape:  (2708, 1433)\n",
      "Node's label shape:  (2708,)\n",
      "Adjacency's shape:  2708\n",
      "Number of training nodes:  140\n",
      "Number of validation nodes:  500\n",
      "Number of test nodes:  1000\n",
      "Cached file: /root/data/cora/cora_cached.pkl\n"
     ]
    }
   ],
   "source": [
    "from graph_neural_networks.GraphSage.cora import CoraData\n",
    "from collections import namedtuple\n",
    "\n",
    "Data = namedtuple('Data', ['x', 'y', 'adjacency_dict',\n",
    "                           'train_mask', 'val_mask', 'test_mask'])\n",
    "\n",
    "# 加载数据，并转换为torch.Tensor\n",
    "dataset = CoraData(data_root='/root/data/cora', rebuild=True).data\n",
    "x = dataset.x / dataset.x.sum(1, keepdims=True)  # 归一化数据，使得每一行和为1\n",
    "train_idx = np.where(dataset.train_mask)[0]\n",
    "train_label = dataset.y\n",
    "test_idx = np.where(dataset.test_mask)[0]"
   ],
   "metadata": {
    "collapsed": false,
    "pycharm": {
     "name": "#%%\n"
    }
   }
  },
  {
   "cell_type": "markdown",
   "source": [
    "### Build GraphSage, define optimizer and loss function"
   ],
   "metadata": {
    "collapsed": false,
    "pycharm": {
     "name": "#%% md\n"
    }
   }
  },
  {
   "cell_type": "code",
   "execution_count": 29,
   "outputs": [],
   "source": [
    "from graph_neural_networks.GraphSage.model import GraphSage\n",
    "\n",
    "model = GraphSage(input_dim=INPUT_DIM, hidden_dim=HIDDEN_DIM,\n",
    "                  num_neighbors_list=NUM_NEIGHBORS_LIST).to(DEVICE)\n",
    "criterion = nn.CrossEntropyLoss().to(DEVICE)\n",
    "optimizer = optim.Adam(model.parameters(), lr=LEARNING_RATE, weight_decay=5e-4)"
   ],
   "metadata": {
    "collapsed": false,
    "pycharm": {
     "name": "#%%\n"
    }
   }
  },
  {
   "cell_type": "markdown",
   "source": [
    "### Define training function"
   ],
   "metadata": {
    "collapsed": false,
    "pycharm": {
     "name": "#%% md\n"
    }
   }
  },
  {
   "cell_type": "code",
   "execution_count": 30,
   "outputs": [],
   "source": [
    "from graph_neural_networks.GraphSage.sampling import multihop_sampling\n",
    "\n",
    "def train():\n",
    "    model.train()\n",
    "    for e in range(EPOCHS):\n",
    "        for i, batch in enumerate(range(NUM_BATCH_PER_EPOCH)):\n",
    "            bth_src_idx = np.random.choice(train_idx, size=(BATCH_SIZE,))\n",
    "            bth_src_label = torch.from_numpy(train_label[bth_src_idx]).long().to(DEVICE)\n",
    "            bth_sampling_res = multihop_sampling(bth_src_idx, NUM_NEIGHBORS_LIST, dataset.adjacency_dict)\n",
    "            bth_sampling_x = [torch.from_numpy(x[idx]).float().to(DEVICE) for idx in bth_sampling_res]\n",
    "\n",
    "            bth_train_logits = model(bth_sampling_x)\n",
    "            loss = criterion(bth_train_logits, bth_src_label)\n",
    "            optimizer.zero_grad()\n",
    "            loss.backward()\n",
    "            optimizer.step()\n",
    "            if i % 5 == 0:\n",
    "                print(\"Epoch {:03d} Batch {:03d} Loss: {:.4f}\".format(e, batch, loss.item()))\n",
    "        test()\n",
    "\n",
    "\n",
    "@torch.no_grad()\n",
    "def test():\n",
    "    model.eval()\n",
    "    test_sampling_result = multihop_sampling(test_idx, NUM_NEIGHBORS_LIST, dataset.adjacency_dict)\n",
    "    test_x = [torch.from_numpy(x[idx]).float().to(DEVICE) for idx in test_sampling_result]\n",
    "    test_label = torch.from_numpy(dataset.y[test_idx]).long().to(DEVICE)\n",
    "\n",
    "    test_logits = model(test_x)\n",
    "    predict_y = test_logits.max(1)[1]\n",
    "    accuarcy = torch.eq(predict_y, test_label).float().mean().item()\n",
    "    print(\"--------------------------------\")\n",
    "    print(\"Test Accuracy: \", accuarcy)\n",
    "    print(\"--------------------------------\")\n",
    "    return test_logits.cpu().numpy(), test_label.cpu().numpy()"
   ],
   "metadata": {
    "collapsed": false,
    "pycharm": {
     "name": "#%%\n"
    }
   }
  },
  {
   "cell_type": "markdown",
   "source": [
    "### Training model"
   ],
   "metadata": {
    "collapsed": false,
    "pycharm": {
     "name": "#%% md\n"
    }
   }
  },
  {
   "cell_type": "code",
   "execution_count": 31,
   "outputs": [
    {
     "name": "stdout",
     "output_type": "stream",
     "text": [
      "Epoch 000 Batch 000 Loss: 1.9423\n",
      "Epoch 000 Batch 005 Loss: 1.8620\n",
      "Epoch 000 Batch 010 Loss: 1.7648\n",
      "Epoch 000 Batch 015 Loss: 1.6133\n",
      "--------------------------------\n",
      "Test Accuracy:  0.4870000183582306\n",
      "--------------------------------\n",
      "Epoch 001 Batch 000 Loss: 1.4953\n",
      "Epoch 001 Batch 005 Loss: 1.5252\n",
      "Epoch 001 Batch 010 Loss: 1.3434\n",
      "Epoch 001 Batch 015 Loss: 1.2664\n",
      "--------------------------------\n",
      "Test Accuracy:  0.6360000371932983\n",
      "--------------------------------\n",
      "Epoch 002 Batch 000 Loss: 1.1870\n",
      "Epoch 002 Batch 005 Loss: 1.0265\n",
      "Epoch 002 Batch 010 Loss: 1.0426\n",
      "Epoch 002 Batch 015 Loss: 0.8449\n",
      "--------------------------------\n",
      "Test Accuracy:  0.7100000381469727\n",
      "--------------------------------\n",
      "Epoch 003 Batch 000 Loss: 0.7624\n",
      "Epoch 003 Batch 005 Loss: 0.6972\n",
      "Epoch 003 Batch 010 Loss: 0.7405\n",
      "Epoch 003 Batch 015 Loss: 0.6249\n",
      "--------------------------------\n",
      "Test Accuracy:  0.7360000610351562\n",
      "--------------------------------\n",
      "Epoch 004 Batch 000 Loss: 0.6409\n",
      "Epoch 004 Batch 005 Loss: 0.5390\n",
      "Epoch 004 Batch 010 Loss: 0.4827\n",
      "Epoch 004 Batch 015 Loss: 0.4585\n",
      "--------------------------------\n",
      "Test Accuracy:  0.7640000581741333\n",
      "--------------------------------\n",
      "Epoch 005 Batch 000 Loss: 0.4146\n",
      "Epoch 005 Batch 005 Loss: 0.3965\n",
      "Epoch 005 Batch 010 Loss: 0.3190\n",
      "Epoch 005 Batch 015 Loss: 0.2729\n",
      "--------------------------------\n",
      "Test Accuracy:  0.7710000276565552\n",
      "--------------------------------\n",
      "Epoch 006 Batch 000 Loss: 0.2711\n",
      "Epoch 006 Batch 005 Loss: 0.2301\n",
      "Epoch 006 Batch 010 Loss: 0.2310\n",
      "Epoch 006 Batch 015 Loss: 0.2194\n",
      "--------------------------------\n",
      "Test Accuracy:  0.7690000534057617\n",
      "--------------------------------\n",
      "Epoch 007 Batch 000 Loss: 0.1827\n",
      "Epoch 007 Batch 005 Loss: 0.1763\n",
      "Epoch 007 Batch 010 Loss: 0.1877\n",
      "Epoch 007 Batch 015 Loss: 0.1569\n",
      "--------------------------------\n",
      "Test Accuracy:  0.7860000133514404\n",
      "--------------------------------\n",
      "Epoch 008 Batch 000 Loss: 0.1692\n",
      "Epoch 008 Batch 005 Loss: 0.1543\n",
      "Epoch 008 Batch 010 Loss: 0.1714\n",
      "Epoch 008 Batch 015 Loss: 0.1254\n",
      "--------------------------------\n",
      "Test Accuracy:  0.784000039100647\n",
      "--------------------------------\n",
      "Epoch 009 Batch 000 Loss: 0.1479\n",
      "Epoch 009 Batch 005 Loss: 0.1236\n",
      "Epoch 009 Batch 010 Loss: 0.1203\n",
      "Epoch 009 Batch 015 Loss: 0.1248\n",
      "--------------------------------\n",
      "Test Accuracy:  0.7850000262260437\n",
      "--------------------------------\n",
      "Epoch 010 Batch 000 Loss: 0.1285\n",
      "Epoch 010 Batch 005 Loss: 0.1177\n",
      "Epoch 010 Batch 010 Loss: 0.1243\n",
      "Epoch 010 Batch 015 Loss: 0.1111\n",
      "--------------------------------\n",
      "Test Accuracy:  0.7850000262260437\n",
      "--------------------------------\n",
      "Epoch 011 Batch 000 Loss: 0.0962\n",
      "Epoch 011 Batch 005 Loss: 0.0946\n",
      "Epoch 011 Batch 010 Loss: 0.0863\n",
      "Epoch 011 Batch 015 Loss: 0.1131\n",
      "--------------------------------\n",
      "Test Accuracy:  0.784000039100647\n",
      "--------------------------------\n",
      "Epoch 012 Batch 000 Loss: 0.0749\n",
      "Epoch 012 Batch 005 Loss: 0.0933\n",
      "Epoch 012 Batch 010 Loss: 0.0884\n",
      "Epoch 012 Batch 015 Loss: 0.0853\n",
      "--------------------------------\n",
      "Test Accuracy:  0.7910000085830688\n",
      "--------------------------------\n",
      "Epoch 013 Batch 000 Loss: 0.0866\n",
      "Epoch 013 Batch 005 Loss: 0.0937\n",
      "Epoch 013 Batch 010 Loss: 0.0832\n",
      "Epoch 013 Batch 015 Loss: 0.0905\n",
      "--------------------------------\n",
      "Test Accuracy:  0.7790000438690186\n",
      "--------------------------------\n",
      "Epoch 014 Batch 000 Loss: 0.0861\n",
      "Epoch 014 Batch 005 Loss: 0.0746\n",
      "Epoch 014 Batch 010 Loss: 0.0823\n",
      "Epoch 014 Batch 015 Loss: 0.0756\n",
      "--------------------------------\n",
      "Test Accuracy:  0.7990000247955322\n",
      "--------------------------------\n",
      "Epoch 015 Batch 000 Loss: 0.0700\n",
      "Epoch 015 Batch 005 Loss: 0.0735\n",
      "Epoch 015 Batch 010 Loss: 0.0655\n",
      "Epoch 015 Batch 015 Loss: 0.0674\n",
      "--------------------------------\n",
      "Test Accuracy:  0.7930000424385071\n",
      "--------------------------------\n",
      "Epoch 016 Batch 000 Loss: 0.0761\n",
      "Epoch 016 Batch 005 Loss: 0.0735\n",
      "Epoch 016 Batch 010 Loss: 0.0660\n",
      "Epoch 016 Batch 015 Loss: 0.0679\n",
      "--------------------------------\n",
      "Test Accuracy:  0.7900000214576721\n",
      "--------------------------------\n",
      "Epoch 017 Batch 000 Loss: 0.0674\n",
      "Epoch 017 Batch 005 Loss: 0.0722\n",
      "Epoch 017 Batch 010 Loss: 0.0676\n",
      "Epoch 017 Batch 015 Loss: 0.0658\n",
      "--------------------------------\n",
      "Test Accuracy:  0.7830000519752502\n",
      "--------------------------------\n",
      "Epoch 018 Batch 000 Loss: 0.0584\n",
      "Epoch 018 Batch 005 Loss: 0.0720\n",
      "Epoch 018 Batch 010 Loss: 0.0638\n",
      "Epoch 018 Batch 015 Loss: 0.0624\n",
      "--------------------------------\n",
      "Test Accuracy:  0.7920000553131104\n",
      "--------------------------------\n",
      "Epoch 019 Batch 000 Loss: 0.0558\n",
      "Epoch 019 Batch 005 Loss: 0.0647\n",
      "Epoch 019 Batch 010 Loss: 0.0643\n",
      "Epoch 019 Batch 015 Loss: 0.0512\n",
      "--------------------------------\n",
      "Test Accuracy:  0.7970000505447388\n",
      "--------------------------------\n",
      "--------------------------------\n",
      "Test Accuracy:  0.7920000553131104\n",
      "--------------------------------\n"
     ]
    }
   ],
   "source": [
    "train()\n",
    "test_logits, test_label = test()"
   ],
   "metadata": {
    "collapsed": false,
    "pycharm": {
     "name": "#%%\n"
    }
   }
  },
  {
   "cell_type": "markdown",
   "source": [
    "### Visual model training results"
   ],
   "metadata": {
    "collapsed": false,
    "pycharm": {
     "name": "#%% md\n"
    }
   }
  },
  {
   "cell_type": "code",
   "execution_count": 32,
   "outputs": [
    {
     "data": {
      "text/plain": "<matplotlib.legend.Legend at 0x7fcb628743c8>"
     },
     "execution_count": 32,
     "metadata": {},
     "output_type": "execute_result"
    },
    {
     "data": {
      "text/plain": "<Figure size 432x288 with 1 Axes>",
      "image/png": "[encoded data removed]"
     },
     "metadata": {
      "needs_background": "light"
     },
     "output_type": "display_data"
    }
   ],
   "source": [
    "# 绘制测试数据的TSNE降维图\n",
    "from sklearn.manifold import TSNE\n",
    "tsne = TSNE()\n",
    "out = tsne.fit_transform(test_logits)\n",
    "fig = plt.figure()\n",
    "for i in range(7):\n",
    "    indices = test_label == i\n",
    "    x, y = out[indices].T\n",
    "    plt.scatter(x, y, label=str(i))\n",
    "plt.legend()"
   ],
   "metadata": {
    "collapsed": false,
    "pycharm": {
     "name": "#%%\n"
    }
   }
  }
 ],
 "metadata": {
  "kernelspec": {
   "display_name": "Python 3",
   "language": "python",
   "name": "python3"
  },
  "language_info": {
   "codemirror_mode": {
    "name": "ipython",
    "version": 2
   },
   "file_extension": ".py",
   "mimetype": "text/x-python",
   "name": "python",
   "nbconvert_exporter": "python",
   "pygments_lexer": "ipython2",
   "version": "2.7.6"
  }
 },
 "nbformat": 4,
 "nbformat_minor": 0
}