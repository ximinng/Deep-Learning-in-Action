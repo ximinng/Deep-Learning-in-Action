{
 "cells": [
  {
   "cell_type": "markdown",
   "source": [
    "## Graph Convolutional Networks in PyTorch\n",
    "\n",
    "> PyTorch implementation of Graph Convolutional Networks (GCNs) for semi-supervised classification.\n",
    "\n",
    "<div align=\"center\">\n",
    "    <img style=\"border-radius: 0.3125em; box-shadow: 0 2px 4px 0 rgba(34,36,38,.12),0 2px 10px 0 rgba(34,36,38,.08);\"\n",
    "    height=\"100\"\n",
    "    src=\"https://github.com/ximingxing/Images/raw/master/dlic/gnn/GCN.png\">\n",
    "    <br>\n",
    "    <div style=\"border-bottom: 1px solid #d9d9d9;display:inline-block;color: #999;padding: 2px;\n",
    "    font-style: oblique; font-family: 'Times New Roman'\">\n",
    "    Figure: Thomas Kipf, Graph Convolutional Networks (2016)</div>\n",
    "</div>\n",
    "\n",
    "**GCN的基本思想**: 把一个节点在图中的高纬度邻接信息降维到一个低维的向量表示.\n",
    "\n",
    "**GCN的优点**: 可以捕捉`graph`的全局信息，从而很好地表示`node`的特征.\n",
    "\n",
    "**GCN的缺点**: `Transductive learning`的方式, 需要把所有节点都参与训练才能得到`node embedding`, 无法快速得到新`node`的`embedding`.\n",
    "\n",
    "**References:**\n",
    "- Semi-Supervised Classification with Graph Convolutional Networks\n",
    "- Paper: https://arxiv.org/abs/1609.02907\n",
    "- Code: https://github.com/tkipf/pygcn"
   ],
   "metadata": {
    "collapsed": false,
    "pycharm": {
     "name": "#%% md\n"
    }
   }
  },
  {
   "cell_type": "markdown",
   "source": [
    "### Import Packages"
   ],
   "metadata": {
    "collapsed": false,
    "pycharm": {
     "name": "#%% md\n"
    }
   }
  },
  {
   "cell_type": "code",
   "execution_count": 1,
   "metadata": {
    "collapsed": true,
    "pycharm": {
     "is_executing": false
    }
   },
   "outputs": [
    {
     "name": "stdout",
     "text": [
      "pytorch version: 1.5.0 \nnumpy version: 1.18.2\n"
     ],
     "output_type": "stream"
    }
   ],
   "source": [
    "import numpy as np\n",
    "import torch\n",
    "import torch.nn as nn\n",
    "import torch.nn.functional as F\n",
    "import torch.nn.init as init\n",
    "import torch.optim as optim\n",
    "import matplotlib\n",
    "import matplotlib.pyplot as plt\n",
    "\n",
    "print('pytorch version:',torch.__version__,\n",
    "      '\\nnumpy version:' ,np.__version__,\n",
    "      '\\nmatplotlib version:' ,matplotlib.__version__)\n",
    "\n",
    "# (可选) 适配项目路径\n",
    "import sys\n",
    "sys.path.insert(0, \"/root/workshop/Deep-Learning-in-Action\")\n",
    "\n",
    "%matplotlib inline"
   ]
  },
  {
   "cell_type": "markdown",
   "source": [
    "### Define the GCN layer"
   ],
   "metadata": {
    "collapsed": false,
    "pycharm": {
     "name": "#%% md\n"
    }
   }
  },
  {
   "cell_type": "code",
   "execution_count": 3,
   "outputs": [],
   "source": [
    "class GraphConvolution(nn.Module):\n",
    "    def __init__(self, input_dim, output_dim, use_bias=True):\n",
    "        \"\"\"图卷积：L*X*\\theta\n",
    "\n",
    "        Args:\n",
    "        ----------\n",
    "            input_dim: int\n",
    "                节点输入特征的维度\n",
    "            output_dim: int\n",
    "                输出特征维度\n",
    "            use_bias : bool, optional\n",
    "                是否使用偏置\n",
    "        \"\"\"\n",
    "        super(GraphConvolution, self).__init__()\n",
    "        self.input_dim = input_dim\n",
    "        self.output_dim = output_dim\n",
    "        self.use_bias = use_bias\n",
    "        self.weight = nn.Parameter(torch.Tensor(input_dim, output_dim))\n",
    "        if self.use_bias:\n",
    "            self.bias = nn.Parameter(torch.Tensor(output_dim))\n",
    "        else:\n",
    "            self.register_parameter('bias', None)\n",
    "        self.reset_parameters()\n",
    "\n",
    "    def reset_parameters(self):\n",
    "        init.kaiming_uniform_(self.weight)\n",
    "        if self.use_bias:\n",
    "            init.zeros_(self.bias)\n",
    "\n",
    "    def forward(self, adjacency, input_feature):\n",
    "        \"\"\"邻接矩阵是稀疏矩阵, 因此在计算时使用稀疏矩阵乘法\n",
    "    \n",
    "        Args: \n",
    "        -------\n",
    "            adjacency: torch.sparse.FloatTensor\n",
    "                邻接矩阵\n",
    "            input_feature: torch.Tensor\n",
    "                输入特征\n",
    "        \"\"\"\n",
    "        support = torch.mm(input_feature, self.weight)\n",
    "        output = torch.sparse.mm(adjacency, support)\n",
    "        if self.use_bias:\n",
    "            output += self.bias\n",
    "        return output\n",
    "\n",
    "    def __repr__(self):\n",
    "        return self.__class__.__name__ + ' (' \\\n",
    "            + str(self.input_dim) + ' -> ' \\\n",
    "            + str(self.output_dim) + ')'\n",
    "    "
   ],
   "metadata": {
    "collapsed": false,
    "pycharm": {
     "name": "#%%\n",
     "is_executing": false
    }
   }
  },
  {
   "cell_type": "markdown",
   "source": [
    "### Build GCN network model"
   ],
   "metadata": {
    "collapsed": false,
    "pycharm": {
     "name": "#%% md\n"
    }
   }
  },
  {
   "cell_type": "code",
   "execution_count": 4,
   "outputs": [],
   "source": [
    "class GCN(nn.Module):\n",
    "    \"\"\"\n",
    "    定义一个包含两层GraphConvolution的模型\n",
    "    \"\"\"\n",
    "    def __init__(self, input_dim=1433):\n",
    "        super(GCN, self).__init__()\n",
    "        self.gcn1 = GraphConvolution(input_dim, 16)\n",
    "        self.gcn2 = GraphConvolution(16, 7)\n",
    "    \n",
    "    def forward(self, adjacency, feature):\n",
    "        h = F.relu(self.gcn1(adjacency, feature))\n",
    "        logits = self.gcn2(adjacency, h)\n",
    "        return logits"
   ],
   "metadata": {
    "collapsed": false,
    "pycharm": {
     "name": "#%%\n",
     "is_executing": false
    }
   }
  },
  {
   "cell_type": "markdown",
   "source": [
    "### Defining hyperparameters"
   ],
   "metadata": {
    "collapsed": false,
    "pycharm": {
     "name": "#%% md\n"
    }
   }
  },
  {
   "cell_type": "code",
   "execution_count": 5,
   "outputs": [],
   "source": [
    "LEARNING_RATE = 0.1\n",
    "WEIGHT_DACAY = 5e-4\n",
    "EPOCHS = 40\n",
    "DEVICE = \"cuda:0\" if torch.cuda.is_available() else \"cpu\""
   ],
   "metadata": {
    "collapsed": false,
    "pycharm": {
     "name": "#%%\n",
     "is_executing": false
    }
   }
  },
  {
   "cell_type": "code",
   "execution_count": 6,
   "outputs": [
    {
     "name": "stdout",
     "text": [
      "Using Cached file: ./data/cora/processed_cora.pkl\n"
     ],
     "output_type": "stream"
    }
   ],
   "source": [
    "from graph_neural_networks.GCN.cora import CoraData, tensor_from_numpy\n",
    "\n",
    "# 加载数据，并转换为torch.Tensor\n",
    "dataset = CoraData(data_root='./data/cora').data\n",
    "node_feature = dataset.x / dataset.x.sum(1, keepdims=True)  # 归一化数据，使得每一行和为1\n",
    "tensor_x = tensor_from_numpy(node_feature, DEVICE)\n",
    "tensor_y = tensor_from_numpy(dataset.y, DEVICE)\n",
    "tensor_train_mask = tensor_from_numpy(dataset.train_mask, DEVICE)\n",
    "tensor_val_mask = tensor_from_numpy(dataset.val_mask, DEVICE)\n",
    "tensor_test_mask = tensor_from_numpy(dataset.test_mask, DEVICE)\n",
    "normalize_adjacency = CoraData.normalization(dataset.adjacency)   # 规范化邻接矩阵\n",
    "\n",
    "num_nodes, input_dim = node_feature.shape\n",
    "indices = torch.from_numpy(np.asarray([normalize_adjacency.row, \n",
    "                                       normalize_adjacency.col]).astype('int64')).long()\n",
    "values = torch.from_numpy(normalize_adjacency.data.astype(np.float32))\n",
    "tensor_adjacency = torch.sparse_coo_tensor(indices,values, size=(num_nodes, num_nodes)).to(DEVICE)\n",
    "# tensor_adjacency = torch.sparse.FloatTensor(indices, values,\n",
    "#                                             (num_nodes, num_nodes)).to(DEVICE)"
   ],
   "metadata": {
    "collapsed": false,
    "pycharm": {
     "name": "#%%\n",
     "is_executing": false
    }
   }
  },
  {
   "cell_type": "markdown",
   "source": [
    "### Init model, define optimizer and loss function"
   ],
   "metadata": {
    "collapsed": false,
    "pycharm": {
     "name": "#%% md\n"
    }
   }
  },
  {
   "cell_type": "code",
   "execution_count": 7,
   "outputs": [],
   "source": [
    "# 模型定义：Model, Loss, Optimizer\n",
    "model = GCN(input_dim).to(DEVICE)\n",
    "criterion = nn.CrossEntropyLoss().to(DEVICE)\n",
    "optimizer = optim.Adam(model.parameters(), lr=LEARNING_RATE, weight_decay=WEIGHT_DACAY)"
   ],
   "metadata": {
    "collapsed": false,
    "pycharm": {
     "name": "#%%\n",
     "is_executing": false
    }
   }
  },
  {
   "cell_type": "markdown",
   "source": [
    "### Define training function"
   ],
   "metadata": {
    "collapsed": false,
    "pycharm": {
     "name": "#%% md\n"
    }
   }
  },
  {
   "cell_type": "code",
   "execution_count": 8,
   "outputs": [],
   "source": [
    "def train():\n",
    "    loss_history = []\n",
    "    val_acc_history = []\n",
    "    model.train()\n",
    "    train_y = tensor_y[tensor_train_mask]\n",
    "    for epoch in range(EPOCHS):\n",
    "        logits = model(tensor_adjacency, tensor_x)  # 前向传播\n",
    "        train_mask_logits = logits[tensor_train_mask]   # 只选择训练节点进行监督\n",
    "        loss = criterion(train_mask_logits, train_y)    # 计算损失值\n",
    "        optimizer.zero_grad()\n",
    "        loss.backward()     # 反向传播计算参数的梯度\n",
    "        optimizer.step()    # 使用优化方法进行梯度更新\n",
    "        train_acc, _, _ = test(tensor_train_mask)     # 计算当前模型训练集上的准确率\n",
    "        val_acc, _, _ = test(tensor_val_mask)     # 计算当前模型在验证集上的准确率\n",
    "        # 记录训练过程中损失值和准确率的变化，用于画图\n",
    "        loss_history.append(loss.item())\n",
    "        val_acc_history.append(val_acc.item())\n",
    "        print(\"Epoch {:03d}: Loss {:.4f}, TrainAcc {:.4}, ValAcc {:.4f}\".format(\n",
    "            epoch, loss.item(), train_acc.item(), val_acc.item()))\n",
    "    \n",
    "    return loss_history, val_acc_history\n",
    "\n",
    "def test(mask):\n",
    "    model.eval()\n",
    "    with torch.no_grad():\n",
    "        logits = model(tensor_adjacency, tensor_x)\n",
    "        test_mask_logits = logits[mask]\n",
    "        predict_y = test_mask_logits.max(1)[1]\n",
    "        accuarcy = torch.eq(predict_y, tensor_y[mask]).float().mean()\n",
    "    return accuarcy, test_mask_logits.cpu().numpy(), tensor_y[mask].cpu().numpy()"
   ],
   "metadata": {
    "collapsed": false,
    "pycharm": {
     "name": "#%%\n",
     "is_executing": false
    }
   }
  },
  {
   "cell_type": "markdown",
   "source": [
    "### Visualize the training process"
   ],
   "metadata": {
    "collapsed": false
   }
  },
  {
   "cell_type": "code",
   "execution_count": 9,
   "outputs": [],
   "source": [
    "def plot_loss_with_acc(loss_history, val_acc_history):\n",
    "    fig = plt.figure()\n",
    "    ax1 = fig.add_subplot(111)\n",
    "    ax1.plot(range(len(loss_history)), loss_history,\n",
    "             c=np.array([255, 71, 90]) / 255.)\n",
    "    plt.ylabel('Loss')\n",
    "    \n",
    "    ax2 = fig.add_subplot(111, sharex=ax1, frameon=False)\n",
    "    ax2.plot(range(len(val_acc_history)), val_acc_history,\n",
    "             c=np.array([79, 179, 255]) / 255.)\n",
    "    ax2.yaxis.tick_right()\n",
    "    ax2.yaxis.set_label_position(\"right\")\n",
    "    plt.ylabel('ValAcc')\n",
    "    \n",
    "    plt.xlabel('Epoch')\n",
    "    plt.title('Training Loss & Validation Accuracy')\n",
    "    plt.show()"
   ],
   "metadata": {
    "collapsed": false,
    "pycharm": {
     "name": "#%%\n",
     "is_executing": false
    }
   }
  },
  {
   "cell_type": "markdown",
   "source": [
    "### Training model"
   ],
   "metadata": {
    "collapsed": false,
    "pycharm": {
     "name": "#%% md\n"
    }
   }
  },
  {
   "cell_type": "code",
   "execution_count": 10,
   "outputs": [
    {
     "name": "stderr",
     "text": [
      "/pytorch/aten/src/ATen/native/BinaryOps.cpp:66: UserWarning: Integer division of tensors using div or / is deprecated, and in a future release div will perform true division as in Python 3. Use true_divide or floor_divide (// in Python) instead.\n"
     ],
     "output_type": "stream"
    },
    {
     "name": "stdout",
     "text": [
      "Epoch 000: Loss 1.9476, TrainAcc 0.2, ValAcc 0.1920\nEpoch 001: Loss 1.8788, TrainAcc 0.3214, ValAcc 0.1380\nEpoch 002: Loss 1.7917, TrainAcc 0.6429, ValAcc 0.3880\nEpoch 003: Loss 1.6742, TrainAcc 0.7714, ValAcc 0.5780\nEpoch 004: Loss 1.5504, TrainAcc 0.85, ValAcc 0.6580\nEpoch 005: Loss 1.4000, TrainAcc 0.9, ValAcc 0.6920\nEpoch 006: Loss 1.2503, TrainAcc 0.9286, ValAcc 0.7360\nEpoch 007: Loss 1.0976, TrainAcc 0.9286, ValAcc 0.7460\nEpoch 008: Loss 0.9503, TrainAcc 0.9429, ValAcc 0.7540\nEpoch 009: Loss 0.8169, TrainAcc 0.9429, ValAcc 0.7500\nEpoch 010: Loss 0.6960, TrainAcc 0.9571, ValAcc 0.7400\nEpoch 011: Loss 0.5970, TrainAcc 0.9714, ValAcc 0.7500\nEpoch 012: Loss 0.5109, TrainAcc 0.9714, ValAcc 0.7680\nEpoch 013: Loss 0.4417, TrainAcc 0.9786, ValAcc 0.7740\nEpoch 014: Loss 0.3871, TrainAcc 0.9857, ValAcc 0.7720\nEpoch 015: Loss 0.3423, TrainAcc 0.9857, ValAcc 0.7660\nEpoch 016: Loss 0.3093, TrainAcc 0.9929, ValAcc 0.7720\nEpoch 017: Loss 0.2830, TrainAcc 0.9929, ValAcc 0.7880\nEpoch 018: Loss 0.2640, TrainAcc 0.9929, ValAcc 0.7840\nEpoch 019: Loss 0.2495, TrainAcc 0.9929, ValAcc 0.7780\nEpoch 020: Loss 0.2390, TrainAcc 0.9929, ValAcc 0.7820\n",
      "Epoch 021: Loss 0.2314, TrainAcc 0.9929, ValAcc 0.7860\nEpoch 022: Loss 0.2251, TrainAcc 0.9929, ValAcc 0.7860\nEpoch 023: Loss 0.2202, TrainAcc 0.9929, ValAcc 0.7740\nEpoch 024: Loss 0.2148, TrainAcc 0.9929, ValAcc 0.7760\nEpoch 025: Loss 0.2100, TrainAcc 0.9929, ValAcc 0.7780\nEpoch 026: Loss 0.2043, TrainAcc 1.0, ValAcc 0.7860\nEpoch 027: Loss 0.1985, TrainAcc 1.0, ValAcc 0.7840\nEpoch 028: Loss 0.1919, TrainAcc 1.0, ValAcc 0.7800\nEpoch 029: Loss 0.1856, TrainAcc 1.0, ValAcc 0.7820\nEpoch 030: Loss 0.1793, TrainAcc 1.0, ValAcc 0.7880\nEpoch 031: Loss 0.1733, TrainAcc 1.0, ValAcc 0.7900\nEpoch 032: Loss 0.1679, TrainAcc 1.0, ValAcc 0.7860\nEpoch 033: Loss 0.1631, TrainAcc 1.0, ValAcc 0.7880\nEpoch 034: Loss 0.1592, TrainAcc 1.0, ValAcc 0.7840\nEpoch 035: Loss 0.1554, TrainAcc 1.0, ValAcc 0.7820\nEpoch 036: Loss 0.1526, TrainAcc 1.0, ValAcc 0.7720\nEpoch 037: Loss 0.1499, TrainAcc 1.0, ValAcc 0.7800\nEpoch 038: Loss 0.1480, TrainAcc 1.0, ValAcc 0.7800\nEpoch 039: Loss 0.1458, TrainAcc 1.0, ValAcc 0.7760\nTest accuarcy:  0.7930000424385071\n"
     ],
     "output_type": "stream"
    },
    {
     "data": {
      "text/plain": "<Figure size 432x288 with 2 Axes>",
      "image/png": "[encoded data removed]"
     },
     "metadata": {
      "needs_background": "light"
     },
     "output_type": "display_data"
    },
    {
     "data": {
      "text/plain": "<matplotlib.legend.Legend at 0x7fb05af4cac8>"
     },
     "metadata": {},
     "output_type": "execute_result",
     "execution_count": 10
    },
    {
     "data": {
      "text/plain": "<Figure size 432x288 with 1 Axes>",
      "image/png": "[encoded data removed]"
     },
     "metadata": {
      "needs_background": "light"
     },
     "output_type": "display_data"
    }
   ],
   "source": [
    "loss, val_acc = train()\n",
    "test_acc, test_logits, test_label = test(tensor_test_mask)\n",
    "print(\"Test accuarcy: \", test_acc.item())\n",
    "\n",
    "plot_loss_with_acc(loss, val_acc)\n",
    "\n",
    "# 绘制测试数据的TSNE降维图\n",
    "from sklearn.manifold import TSNE\n",
    "tsne = TSNE()\n",
    "out = tsne.fit_transform(test_logits)\n",
    "fig = plt.figure()\n",
    "for i in range(7):\n",
    "    indices = test_label == i\n",
    "    x, y = out[indices].T\n",
    "    plt.scatter(x, y, label=str(i))\n",
    "plt.legend()"
   ],
   "metadata": {
    "collapsed": false,
    "pycharm": {
     "name": "#%%\n",
     "is_executing": false
    }
   }
  }
 ],
 "metadata": {
  "kernelspec": {
   "display_name": "Python 3",
   "language": "python",
   "name": "python3"
  },
  "language_info": {
   "codemirror_mode": {
    "name": "ipython",
    "version": 2
   },
   "file_extension": ".py",
   "mimetype": "text/x-python",
   "name": "python",
   "nbconvert_exporter": "python",
   "pygments_lexer": "ipython2",
   "version": "2.7.6"
  }
 },
 "nbformat": 4,
 "nbformat_minor": 0
}